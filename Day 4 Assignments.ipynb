{
 "cells": [
  {
   "cell_type": "markdown",
   "metadata": {},
   "source": [
    "# Assignment 1 Day 4"
   ]
  },
  {
   "cell_type": "code",
   "execution_count": 5,
   "metadata": {},
   "outputs": [
    {
     "name": "stdout",
     "output_type": "stream",
     "text": [
      "First Armstrong number in range is :  1741725\n"
     ]
    }
   ],
   "source": [
    "st = 1042000\n",
    "en = 70268265\n",
    "flag = 1\n",
    "\n",
    "for num in range(st, en):\n",
    "    x = len(str(num))\n",
    "    sum = 0\n",
    "    temp = num\n",
    "    \n",
    "    while temp > 0 and flag == 1:\n",
    "        temp1 = temp % 10\n",
    "        sum += temp1 **x\n",
    "        temp = temp // 10\n",
    "    if num == sum:\n",
    "        print(\"First Armstrong number in range is : \",num)\n",
    "        flag = 0\n",
    "        break"
   ]
  },
  {
   "cell_type": "code",
   "execution_count": 4,
   "metadata": {},
   "outputs": [
    {
     "name": "stdout",
     "output_type": "stream",
     "text": [
      "First Armstrong number in range is :  1634\n"
     ]
    }
   ],
   "source": [
    "st = 1042\n",
    "en = 7026\n",
    "flag = 1\n",
    "\n",
    "for num in range(st, en):\n",
    "    x = len(str(num))\n",
    "    sum = 0\n",
    "    temp = num\n",
    "    \n",
    "    while temp > 0 and flag == 1:\n",
    "        temp1 = temp % 10\n",
    "        sum += temp1 **x\n",
    "        temp = temp // 10\n",
    "    if num == sum:\n",
    "        print(\"First Armstrong number in range is : \",num)\n",
    "        flag = 0\n",
    "        break"
   ]
  },
  {
   "cell_type": "code",
   "execution_count": null,
   "metadata": {},
   "outputs": [],
   "source": []
  }
 ],
 "metadata": {
  "kernelspec": {
   "display_name": "Python 3",
   "language": "python",
   "name": "python3"
  },
  "language_info": {
   "codemirror_mode": {
    "name": "ipython",
    "version": 3
   },
   "file_extension": ".py",
   "mimetype": "text/x-python",
   "name": "python",
   "nbconvert_exporter": "python",
   "pygments_lexer": "ipython3",
   "version": "3.8.3"
  }
 },
 "nbformat": 4,
 "nbformat_minor": 4
}
