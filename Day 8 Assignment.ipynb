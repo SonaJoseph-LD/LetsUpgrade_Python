{
 "cells": [
  {
   "cell_type": "markdown",
   "metadata": {},
   "source": [
    "# Assignment 1"
   ]
  },
  {
   "cell_type": "code",
   "execution_count": 1,
   "metadata": {},
   "outputs": [],
   "source": [
    "def takeInput(calculate_fibo):\n",
    "    def calculate():\n",
    "        num = int(input(\"Enter the number for fibonacci series : \"))\n",
    "        calculate_fibo(num)\n",
    "    return calculate"
   ]
  },
  {
   "cell_type": "code",
   "execution_count": 2,
   "metadata": {},
   "outputs": [],
   "source": [
    "@takeInput\n",
    "def fibo(n):\n",
    "    nw = [0,1]\n",
    "    for i in range(2,n):\n",
    "        m = nw[i-1] + nw[i-2]\n",
    "        nw.append(m)\n",
    "    print(nw)"
   ]
  },
  {
   "cell_type": "code",
   "execution_count": 3,
   "metadata": {},
   "outputs": [
    {
     "name": "stdout",
     "output_type": "stream",
     "text": [
      "Enter the number for fibonacci series : 10\n",
      "[0, 1, 1, 2, 3, 5, 8, 13, 21, 34]\n"
     ]
    }
   ],
   "source": [
    "fibo()"
   ]
  },
  {
   "cell_type": "markdown",
   "metadata": {},
   "source": [
    "# Assignment 2"
   ]
  },
  {
   "cell_type": "code",
   "execution_count": 66,
   "metadata": {},
   "outputs": [
    {
     "name": "stdout",
     "output_type": "stream",
     "text": [
      "Hey! This is a text file.\n",
      "Do you want to adit this?\n",
      "\n"
     ]
    }
   ],
   "source": [
    "f = open(\"assignment_file.txt\",'r')\n",
    "content = f.read()\n",
    "print(content)\n",
    "f.close()"
   ]
  },
  {
   "cell_type": "code",
   "execution_count": 4,
   "metadata": {},
   "outputs": [
    {
     "name": "stdout",
     "output_type": "stream",
     "text": [
      "Kindly use write mode to write in file!\n"
     ]
    }
   ],
   "source": [
    "try:\n",
    "    f = open(\"assignment_file.txt\",'r')\n",
    "    f.write(\"Yes I want to edit\")\n",
    "    print(content)\n",
    "    f.close()\n",
    "    print(\"You have sucessfully edited\")\n",
    "\n",
    "except Exception as e:\n",
    "    print(\"Kindly use write mode to write in file!\")\n",
    "    \n"
   ]
  },
  {
   "cell_type": "code",
   "execution_count": null,
   "metadata": {},
   "outputs": [],
   "source": []
  }
 ],
 "metadata": {
  "kernelspec": {
   "display_name": "Python 3",
   "language": "python",
   "name": "python3"
  },
  "language_info": {
   "codemirror_mode": {
    "name": "ipython",
    "version": 3
   },
   "file_extension": ".py",
   "mimetype": "text/x-python",
   "name": "python",
   "nbconvert_exporter": "python",
   "pygments_lexer": "ipython3",
   "version": "3.8.3"
  }
 },
 "nbformat": 4,
 "nbformat_minor": 4
}
