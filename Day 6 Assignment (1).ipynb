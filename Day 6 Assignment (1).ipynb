{
 "cells": [
  {
   "cell_type": "markdown",
   "metadata": {},
   "source": [
    "# Assignment 1"
   ]
  },
  {
   "cell_type": "code",
   "execution_count": 65,
   "metadata": {},
   "outputs": [],
   "source": [
    "class bank_account():\n",
    "    def __init__(self, balance, ownerName):\n",
    "        self.ownerName = ownerName\n",
    "        self.balance = balance\n",
    "        \n",
    "    def getDetails(self):\n",
    "        print(\"Name of account holder : \", self.ownerName)\n",
    "        print(\"Balance available : \", self.balance)\n",
    "        \n",
    "    def deposit(self):\n",
    "        depo_amount = int(input(\"Enter amount to be deposited : \"))\n",
    "        self.balance = self.balance + depo_amount\n",
    "        return f'Total balance : {self.balance}'\n",
    "    \n",
    "    def withdraw(self):\n",
    "        withdrawal_amount = int(input(\"Enter the amount to be withdrawed : \"))\n",
    "        if withdrawal_amount > self.balance:\n",
    "            print(\"Enter amount less than \",self.balance)\n",
    "        else:\n",
    "            self.balance -= withdrawal_amount\n",
    "            print(\"Balance after withdrawel \",self.balance)"
   ]
  },
  {
   "cell_type": "code",
   "execution_count": 66,
   "metadata": {},
   "outputs": [],
   "source": [
    "own1 = bank_account(50000, 'Sona Joseph')"
   ]
  },
  {
   "cell_type": "code",
   "execution_count": 67,
   "metadata": {},
   "outputs": [
    {
     "name": "stdout",
     "output_type": "stream",
     "text": [
      "Name of account holder :  Sona Joseph\n",
      "Balance available :  50000\n"
     ]
    }
   ],
   "source": [
    "own1.getDetails()"
   ]
  },
  {
   "cell_type": "code",
   "execution_count": 68,
   "metadata": {},
   "outputs": [
    {
     "name": "stdout",
     "output_type": "stream",
     "text": [
      "Enter amount to be deposited : 5000\n"
     ]
    },
    {
     "data": {
      "text/plain": [
       "'Total balance : 55000'"
      ]
     },
     "execution_count": 68,
     "metadata": {},
     "output_type": "execute_result"
    }
   ],
   "source": [
    "own1.deposit()"
   ]
  },
  {
   "cell_type": "code",
   "execution_count": 69,
   "metadata": {},
   "outputs": [
    {
     "name": "stdout",
     "output_type": "stream",
     "text": [
      "Enter the amount to be withdrawed : 60000\n",
      "Enter amount less than  55000\n"
     ]
    }
   ],
   "source": [
    "own1.withdraw()"
   ]
  },
  {
   "cell_type": "code",
   "execution_count": 70,
   "metadata": {},
   "outputs": [
    {
     "name": "stdout",
     "output_type": "stream",
     "text": [
      "Enter the amount to be withdrawed : 2000\n",
      "Balance after withdrawel  53000\n"
     ]
    }
   ],
   "source": [
    "own1.withdraw()"
   ]
  },
  {
   "cell_type": "code",
   "execution_count": 71,
   "metadata": {},
   "outputs": [
    {
     "name": "stdout",
     "output_type": "stream",
     "text": [
      "Name of account holder :  Sona Joseph\n",
      "Balance available :  53000\n"
     ]
    }
   ],
   "source": [
    "own1.getDetails()"
   ]
  },
  {
   "cell_type": "code",
   "execution_count": 54,
   "metadata": {},
   "outputs": [],
   "source": [
    "import math\n",
    "class cone():\n",
    "    def __init__(self, radius, height):\n",
    "        self.radius = radius\n",
    "        self.height = height\n",
    "    \n",
    "    def area(self):\n",
    "        surface_area = math.pi*pow(self.radius,2)\n",
    "        return surface_area\n",
    "    \n",
    "    def volume(self):\n",
    "        volume = math.pi*pow((self.radius),2)*(self.height)/3\n",
    "        return volume"
   ]
  },
  {
   "cell_type": "code",
   "execution_count": 55,
   "metadata": {},
   "outputs": [],
   "source": [
    "cone1 = cone(3, 4)"
   ]
  },
  {
   "cell_type": "code",
   "execution_count": 56,
   "metadata": {},
   "outputs": [
    {
     "data": {
      "text/plain": [
       "28.274333882308138"
      ]
     },
     "execution_count": 56,
     "metadata": {},
     "output_type": "execute_result"
    }
   ],
   "source": [
    "cone1.area()"
   ]
  },
  {
   "cell_type": "code",
   "execution_count": 57,
   "metadata": {},
   "outputs": [
    {
     "data": {
      "text/plain": [
       "37.69911184307752"
      ]
     },
     "execution_count": 57,
     "metadata": {},
     "output_type": "execute_result"
    }
   ],
   "source": [
    "cone1.volume()"
   ]
  },
  {
   "cell_type": "code",
   "execution_count": null,
   "metadata": {},
   "outputs": [],
   "source": []
  }
 ],
 "metadata": {
  "kernelspec": {
   "display_name": "Python 3",
   "language": "python",
   "name": "python3"
  },
  "language_info": {
   "codemirror_mode": {
    "name": "ipython",
    "version": 3
   },
   "file_extension": ".py",
   "mimetype": "text/x-python",
   "name": "python",
   "nbconvert_exporter": "python",
   "pygments_lexer": "ipython3",
   "version": "3.8.3"
  }
 },
 "nbformat": 4,
 "nbformat_minor": 4
}
